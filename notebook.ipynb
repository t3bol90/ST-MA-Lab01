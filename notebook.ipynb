{
 "cells": [
  {
   "cell_type": "markdown",
   "metadata": {},
   "source": [
    "<h1>LAB 1 - TOÁN ỨNG DỤNG VÀ THỐNG KÊ - 18CLC<h1/>\n",
    "\n",
    "Môn `MTH00051`: Cơ sở dữ liệu\n",
    "Khoa CNTT – CTĐA, Trường ĐH KHTN – ĐHQG TP.HCM\n",
    "`25/07/2020`\n",
    "\n",
    "Bài tập cá nhân gồm một thành viên:\n",
    "-   `18127231`: Đoàn Đình Toàn (GitHub: [@t3bol90](https://github.com/t3bol90))\n",
    "\n",
    "---\n",
    "\n",
    "## Cân bằng phản ứng hóa học (cộng điểm)"
   ]
  },
  {
   "cell_type": "markdown",
   "metadata": {},
   "source": [
    "**Công thức hóa học** (chemical formula) của các phân tử hóa học có thể được mô tả trong Python bằng một danh sách ([`list`](https://docs.python.org/3/tutorial/datastructures.html#more-on-lists)) các bộ ([`tuple`](https://docs.python.org/3/tutorial/datastructures.html#tuples-and-sequences)). Chẳng hạn, công thức hóa học của nước $\\text{H}_2\\text{O}$ có thể được mô tả bởi danh sách `[(\"H\", 2), (\"O\", 1)]`."
   ]
  },
  {
   "cell_type": "markdown",
   "metadata": {},
   "source": [
    "Viết hàm trả về chuỗi biểu diễn LaTeX của công thức hóa học."
   ]
  },
  {
   "cell_type": "code",
   "execution_count": 2,
   "metadata": {
    "pycharm": {
     "name": "#%%\n"
    }
   },
   "outputs": [],
   "source": [
    "def chemical_formula(mol):\n",
    "    ans = \"\"\n",
    "    for chem, bias in mol:\n",
    "        if isinstance(chem, str):\n",
    "            ans += f\"\\\\text{{{chem}}}\" + (f\"_{{{bias}}}\" if bias != 1 else \"\")\n",
    "        elif isinstance(chem, list):\n",
    "            if bias != 1:\n",
    "                ans += \"(\"\n",
    "            ans += chemical_formula(chem)\n",
    "            if bias != 1:\n",
    "                ans += f\")_{{{bias}}}\"\n",
    "    return ans\n"
   ]
  },
  {
   "cell_type": "code",
   "execution_count": 3,
   "metadata": {
    "pycharm": {
     "name": "#%%\n"
    }
   },
   "outputs": [
    {
     "name": "stdout",
     "output_type": "stream",
     "text": [
      "\\text{H}_{2}\\text{O}\n"
     ]
    },
    {
     "data": {
      "text/latex": [
       "$\\text{H}_{2}\\text{O}$"
      ],
      "text/plain": [
       "<IPython.core.display.Latex object>"
      ]
     },
     "execution_count": 3,
     "metadata": {},
     "output_type": "execute_result"
    }
   ],
   "source": [
    "from IPython.display import Latex\n",
    "\n",
    "mol = chemical_formula([(\"H\", 2), (\"O\", 1)])\n",
    "# sẽ được như\n",
    "# mol = r\"\\text{H}_2\\text{O}\"\n",
    "print(mol)\n",
    "Latex(\"$\" + mol + \"$\")"
   ]
  },
  {
   "cell_type": "markdown",
   "metadata": {},
   "source": [
    "Mở rộng hàm trên để cho phép công thức có chứa các nhóm nguyên tử. Chẳng hạn, công thức hóa học của nhôm sunfat $\\text{Al}_2(\\text{S}\\text{O}_4)_3$ có thể được mô tả bởi danh sách `[(\"Al\", 2), ([(\"S\", 1), (\"O\", 4)], 3)]`."
   ]
  },
  {
   "cell_type": "code",
   "execution_count": 4,
   "metadata": {
    "pycharm": {
     "name": "#%%\n"
    }
   },
   "outputs": [
    {
     "name": "stdout",
     "output_type": "stream",
     "text": [
      "\\text{Al}_{2}(\\text{S}\\text{O}_{4})_{3}\n"
     ]
    },
    {
     "data": {
      "text/latex": [
       "$\\text{Al}_{2}(\\text{S}\\text{O}_{4})_{3}$"
      ],
      "text/plain": [
       "<IPython.core.display.Latex object>"
      ]
     },
     "execution_count": 4,
     "metadata": {},
     "output_type": "execute_result"
    }
   ],
   "source": [
    "mol = chemical_formula([(\"Al\", 2), ([(\"S\", 1), (\"O\", 4)], 3)])\n",
    "# sẽ được như\n",
    "# mol = r\"\\text{Al}_2(\\text{S}\\text{O}_4)_3\"\n",
    "print(mol)\n",
    "Latex(\"$\" + mol + \"$\")"
   ]
  },
  {
   "cell_type": "markdown",
   "metadata": {},
   "source": [
    "Một **phản ứng hóa học** (chemical reaction) có thể được mô tả bởi 2 danh sách: danh sách các **phân tử tham gia phản ứng** (reactant) và danh sách các **phân tử sản phẩm** (product). Viết hàm cân bằng phản ứng hóa học và trả về chuỗi biểu diễn LaTeX của **phương trình hóa học** (chemical equation) đã cân bằng."
   ]
  },
  {
   "cell_type": "code",
   "execution_count": 5,
   "metadata": {},
   "outputs": [],
   "source": [
    "from IPython.display import Latex\n",
    "from collections import Counter\n",
    "import sympy"
   ]
  },
  {
   "cell_type": "code",
   "execution_count": 6,
   "metadata": {},
   "outputs": [],
   "source": [
    "def counting_extractor(compound):\n",
    "    \"\"\"\n",
    "    Return a dict of compound and it's counts,\n",
    "    Eg: 'H2O' -> {'H': 2, 'O': 1}\n",
    "    \"\"\"\n",
    "    extractor = {}\n",
    "\n",
    "    def coex_helper(mol, mbias=1):\n",
    "        nonlocal extractor\n",
    "        for chem, bias in mol:\n",
    "            if isinstance(chem, str):\n",
    "                if chem not in extractor:\n",
    "                    extractor[chem] = 0\n",
    "                extractor[chem] += bias * mbias\n",
    "            elif isinstance(chem, list):\n",
    "                coex_helper(chem, bias)\n",
    "\n",
    "    coex_helper(compound)\n",
    "    return extractor"
   ]
  },
  {
   "cell_type": "code",
   "execution_count": 7,
   "metadata": {
    "pycharm": {
     "name": "#%%\n"
    }
   },
   "outputs": [],
   "source": [
    "def balance_chemical_equation(lhs, rhs):\n",
    "    lhs_cmp = {}\n",
    "    rhs_cmp = {}\n",
    "    lhs_listing_cmp = []\n",
    "    rhs_listing_cmp = []\n",
    "    for comp in lhs:\n",
    "        comp_coex = counting_extractor(comp)\n",
    "        lhs_cmp.update(Counter(comp_coex))\n",
    "        lhs_listing_cmp.append(comp_coex)\n",
    "    for comp in rhs:\n",
    "        comp_coex = counting_extractor(comp)\n",
    "        rhs_cmp.update(Counter(comp_coex))\n",
    "        rhs_listing_cmp.append(comp_coex)\n",
    "\n",
    "    w = len(lhs) + len(rhs)\n",
    "    h = len(lhs_cmp)\n",
    "    A = [[0] * w for _ in range(h)]\n",
    "    variables = sorted(list(set(cmp[0] for cmp in lhs_cmp.items())))\n",
    "    # print(variables)\n",
    "    for col, compound in enumerate(lhs_listing_cmp):\n",
    "        for row, comp in enumerate(variables):\n",
    "            A[row][col] = compound[comp] if comp in compound else 0\n",
    "    for col, compound in enumerate(rhs_listing_cmp):\n",
    "        for row, comp in enumerate(variables):\n",
    "            A[row][col + len(lhs)] = -compound[comp] if comp in compound else 0\n",
    "    # print(A)\n",
    "    A = sympy.Matrix(A)\n",
    "    Q = A.nullspace()[0]\n",
    "    Q *= sympy.lcm([x.q for x in Q])\n",
    "    ans = ''\n",
    "    for index, chem in enumerate(lhs):\n",
    "        bias = str(Q[index]) if Q[index] != 1 else \"\"\n",
    "        ans += bias + chemical_formula(chem) + (' + ' if (index != len(lhs) - 1) else '')\n",
    "        ans += r\" \\to \"\n",
    "    for index, chem in enumerate(rhs):\n",
    "        bias = str(Q[index + len(lhs)]) if Q[index + len(lhs)] != 1 else \"\"\n",
    "        ans += bias + chemical_formula(chem) + (' + ' if (index != len(rhs) - 1) else '')\n",
    "    return ans\n"
   ]
  },
  {
   "cell_type": "code",
   "execution_count": 8,
   "metadata": {
    "pycharm": {
     "name": "#%%\n"
    }
   },
   "outputs": [
    {
     "name": "stdout",
     "output_type": "stream",
     "text": [
      "2\\text{H}_{2}\\text{O} \\to 2\\text{H}_{2} + \\text{O}_{2}\n"
     ]
    },
    {
     "data": {
      "text/latex": [
       "$$2\\text{H}_{2}\\text{O} \\to 2\\text{H}_{2} + \\text{O}_{2}$$"
      ],
      "text/plain": [
       "<IPython.core.display.Latex object>"
      ]
     },
     "execution_count": 8,
     "metadata": {},
     "output_type": "execute_result"
    }
   ],
   "source": [
    "H2O = [(\"H\", 2), (\"O\", 1)]\n",
    "H2 = [(\"H\", 2)]\n",
    "O2 = [(\"O\", 2)]\n",
    "\n",
    "equation = balance_chemical_equation([H2O], [H2, O2])\n",
    "# sẽ được như\n",
    "# equation = r\"2\\text{H}_2\\text{O} \\to 2\\text{H}_2 + \\text{O}_2\"\n",
    "print(equation)\n",
    "Latex(\"$$\" + equation + \"$$\")"
   ]
  },
  {
   "cell_type": "code",
   "execution_count": 9,
   "metadata": {
    "pycharm": {
     "name": "#%%\n"
    }
   },
   "outputs": [
    {
     "name": "stdout",
     "output_type": "stream",
     "text": [
      "10\\text{Fe}\\text{S}\\text{O}_{4} +  \\to 2\\text{K}\\text{Mn}\\text{O}_{4} +  \\to 8\\text{H}_{2}\\text{S}\\text{O}_{4} \\to \\text{K}_{2}\\text{S}\\text{O}_{4} + 2\\text{Mn}\\text{S}\\text{O}_{4} + 5\\text{Fe}_{2}(\\text{S}\\text{O}_{4})_{3} + 8\\text{H}_{2}\\text{O}\n"
     ]
    },
    {
     "data": {
      "text/latex": [
       "$$10\\text{Fe}\\text{S}\\text{O}_{4} +  \\to 2\\text{K}\\text{Mn}\\text{O}_{4} +  \\to 8\\text{H}_{2}\\text{S}\\text{O}_{4} \\to \\text{K}_{2}\\text{S}\\text{O}_{4} + 2\\text{Mn}\\text{S}\\text{O}_{4} + 5\\text{Fe}_{2}(\\text{S}\\text{O}_{4})_{3} + 8\\text{H}_{2}\\text{O}$$"
      ],
      "text/plain": [
       "<IPython.core.display.Latex object>"
      ]
     },
     "execution_count": 9,
     "metadata": {},
     "output_type": "execute_result"
    }
   ],
   "source": [
    "Al_OH3 = [(\"Al\", 1), ([(\"O\", 1), (\"H\", 1)], 3)]\n",
    "H2_SO4 = [(\"H\", 2), ([(\"S\", 1), (\"O\", 4)], 1)]\n",
    "Al2_SO43 = [(\"Al\", 2), ([(\"S\", 1), (\"O\", 4)], 3)]\n",
    "H2O = [(\"H\", 2), (\"O\", 1)]\n",
    "KMnO4 = [('K', 1), ('Mn', 1), ('O', 4)]\n",
    "HCl = [('H', 1), ('Cl', 1)]\n",
    "KCl = [('K', 1), ('Cl', 1)]\n",
    "MnCl2 = [('Mn', 1), ('Cl', 2)]\n",
    "H2O = [('H', 2), ('O', 1)]\n",
    "Cl2 = [('Cl', 2)]\n",
    "\n",
    "FeSO4 = [(\"Fe\", 1), (\"S\",1),(\"O\",4) ]\n",
    "KMnO4 = [(\"K\", 1), (\"Mn\",1), (\"O\", 4)]\n",
    "H2SO4 = [(\"H\", 2), (\"S\", 1), (\"O\", 4)] \n",
    "K2SO4 = [(\"K\", 2), (\"S\", 1), (\"O\", 4)] \n",
    "MnSO4 = [(\"Mn\", 1), (\"S\", 1), (\"O\", 4)] \n",
    "Fe2SO4_3 = [(\"Fe\", 2), ([(\"S\", 1), (\"O\", 4)],3)]\n",
    "H2O = [(\"H\", 2), (\"O\", 1)]\n",
    "\n",
    "equation = balance_chemical_equation([FeSO4, KMnO4, H2SO4], [K2SO4, MnSO4, Fe2SO4_3,H2O])\n",
    "\n",
    "Latex(\"$$\" + equation + \"$$\")\n",
    "# lhs = [KMnO4, HCl]\n",
    "# rhs = [KCl, MnCl2, Cl2, H2O]\n",
    "# equation = balance_chemical_equation(lhs, rhs)\n",
    "# sẽ được như\n",
    "# equation = r\"2\\text{Al}(\\text{O}\\text{H})_3 + 3\\text{H}_2\\text{S}\\text{O}_4 \\to \\text{Al}_2(\\text{S}\\text{O}_4)_3 + 6\\text{H}_2\\text{O}\"\n",
    "print(equation)\n",
    "Latex(\"$$\" + equation + \"$$\")"
   ]
  },
  {
   "cell_type": "markdown",
   "metadata": {
    "pycharm": {
     "name": "#%% md\n"
    }
   },
   "source": [
    "**Chúc mọi người một ngày vui vẻ.**"
   ]
  }
 ],
 "metadata": {
  "kernelspec": {
   "display_name": "Python 3",
   "language": "python",
   "name": "python3"
  },
  "language_info": {
   "codemirror_mode": {
    "name": "ipython",
    "version": 3
   },
   "file_extension": ".py",
   "mimetype": "text/x-python",
   "name": "python",
   "nbconvert_exporter": "python",
   "pygments_lexer": "ipython3",
   "version": "3.7.6"
  }
 },
 "nbformat": 4,
 "nbformat_minor": 4
}